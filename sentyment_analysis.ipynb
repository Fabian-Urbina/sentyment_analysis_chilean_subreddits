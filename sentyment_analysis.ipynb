{
  "nbformat": 4,
  "nbformat_minor": 0,
  "metadata": {
    "colab": {
      "provenance": [],
      "gpuType": "T4",
      "authorship_tag": "ABX9TyP7OokDuusirO/0XhnjASVM",
      "include_colab_link": true
    },
    "kernelspec": {
      "name": "python3",
      "display_name": "Python 3"
    },
    "language_info": {
      "name": "python"
    },
    "accelerator": "GPU"
  },
  "cells": [
    {
      "cell_type": "markdown",
      "metadata": {
        "id": "view-in-github",
        "colab_type": "text"
      },
      "source": [
        "<a href=\"https://colab.research.google.com/github/Fabian-Urbina/sentyment_analysis_chilean_subreddits/blob/main/sentyment_analysis.ipynb\" target=\"_parent\"><img src=\"https://colab.research.google.com/assets/colab-badge.svg\" alt=\"Open In Colab\"/></a>"
      ]
    },
    {
      "cell_type": "markdown",
      "source": [
        "# Data Scrap From Reddit"
      ],
      "metadata": {
        "id": "EilBYC9vGKY6"
      }
    },
    {
      "cell_type": "code",
      "source": [
        "%pip install praw\n",
        "import praw\n",
        "import warnings\n",
        "import logging\n",
        "warnings.filterwarnings(\"ignore\", category=UserWarning, module='praw')\n",
        "\n",
        "# Silencia los warnings de PRAW\n",
        "logging.getLogger(\"praw\").setLevel(logging.ERROR)\n",
        "# -----------------------------\n",
        "# Configurar Reddit\n",
        "# -----------------------------\n",
        "reddit = praw.Reddit(\n",
        "    client_id='3hMnYve-0PzsKXPpMBjZwg',\n",
        "    client_secret='08j3U0tOSRL0T2rUdovI7zEsxEFzDw',\n",
        "    user_agent='scrapper'\n",
        ")"
      ],
      "metadata": {
        "colab": {
          "base_uri": "https://localhost:8080/"
        },
        "collapsed": true,
        "id": "TRs3ZAmLtokq",
        "outputId": "f87d2bd3-b454-4310-93c9-a23c8a17c5e1"
      },
      "execution_count": null,
      "outputs": [
        {
          "output_type": "stream",
          "name": "stdout",
          "text": [
            "Collecting praw\n",
            "  Downloading praw-7.8.1-py3-none-any.whl.metadata (9.4 kB)\n",
            "Collecting prawcore<3,>=2.4 (from praw)\n",
            "  Downloading prawcore-2.4.0-py3-none-any.whl.metadata (5.0 kB)\n",
            "Collecting update_checker>=0.18 (from praw)\n",
            "  Downloading update_checker-0.18.0-py3-none-any.whl.metadata (2.3 kB)\n",
            "Requirement already satisfied: websocket-client>=0.54.0 in /usr/local/lib/python3.12/dist-packages (from praw) (1.8.0)\n",
            "Requirement already satisfied: requests<3.0,>=2.6.0 in /usr/local/lib/python3.12/dist-packages (from prawcore<3,>=2.4->praw) (2.32.4)\n",
            "Requirement already satisfied: charset_normalizer<4,>=2 in /usr/local/lib/python3.12/dist-packages (from requests<3.0,>=2.6.0->prawcore<3,>=2.4->praw) (3.4.3)\n",
            "Requirement already satisfied: idna<4,>=2.5 in /usr/local/lib/python3.12/dist-packages (from requests<3.0,>=2.6.0->prawcore<3,>=2.4->praw) (3.10)\n",
            "Requirement already satisfied: urllib3<3,>=1.21.1 in /usr/local/lib/python3.12/dist-packages (from requests<3.0,>=2.6.0->prawcore<3,>=2.4->praw) (2.5.0)\n",
            "Requirement already satisfied: certifi>=2017.4.17 in /usr/local/lib/python3.12/dist-packages (from requests<3.0,>=2.6.0->prawcore<3,>=2.4->praw) (2025.8.3)\n",
            "Downloading praw-7.8.1-py3-none-any.whl (189 kB)\n",
            "\u001b[2K   \u001b[90m━━━━━━━━━━━━━━━━━━━━━━━━━━━━━━━━━━━━━━━━\u001b[0m \u001b[32m189.3/189.3 kB\u001b[0m \u001b[31m15.0 MB/s\u001b[0m eta \u001b[36m0:00:00\u001b[0m\n",
            "\u001b[?25hDownloading prawcore-2.4.0-py3-none-any.whl (17 kB)\n",
            "Downloading update_checker-0.18.0-py3-none-any.whl (7.0 kB)\n",
            "Installing collected packages: update_checker, prawcore, praw\n",
            "Successfully installed praw-7.8.1 prawcore-2.4.0 update_checker-0.18.0\n"
          ]
        }
      ]
    },
    {
      "cell_type": "code",
      "source": [
        "import pandas as pd\n",
        "\n",
        "subreddits = ['chile', 'Republicadechile','Santiago','Chileit','Chilegames']\n",
        "comments_data = []\n",
        "for subreddit_name in subreddits:\n",
        "    subreddit = reddit.subreddit(subreddit_name)\n",
        "    for post in subreddit.hot(limit=100):  # puedes ajustar el número de posts\n",
        "        post.comments.replace_more(limit=0)  # para traer todos los comentarios sin \"MoreComments\"\n",
        "        for comment in post.comments.list():\n",
        "            comments_data.append({\n",
        "                'subreddit':subreddit_name,'comment':comment.body\n",
        "                })\n",
        "\n",
        "# -----------------------------\n",
        "# Guardar en CSV\n",
        "# -----------------------------\n",
        "df=pd.DataFrame(comments_data)\n",
        "df.to_csv('comments.csv', index=False)\n",
        "from google.colab import files\n",
        "files.download('/content/comments.csv')\n"
      ],
      "metadata": {
        "colab": {
          "base_uri": "https://localhost:8080/",
          "height": 17
        },
        "id": "zw8TI3kmzqRu",
        "outputId": "e8169b3e-92d4-4707-821e-910d3d27288b"
      },
      "execution_count": null,
      "outputs": [
        {
          "output_type": "display_data",
          "data": {
            "text/plain": [
              "<IPython.core.display.Javascript object>"
            ],
            "application/javascript": [
              "\n",
              "    async function download(id, filename, size) {\n",
              "      if (!google.colab.kernel.accessAllowed) {\n",
              "        return;\n",
              "      }\n",
              "      const div = document.createElement('div');\n",
              "      const label = document.createElement('label');\n",
              "      label.textContent = `Downloading \"${filename}\": `;\n",
              "      div.appendChild(label);\n",
              "      const progress = document.createElement('progress');\n",
              "      progress.max = size;\n",
              "      div.appendChild(progress);\n",
              "      document.body.appendChild(div);\n",
              "\n",
              "      const buffers = [];\n",
              "      let downloaded = 0;\n",
              "\n",
              "      const channel = await google.colab.kernel.comms.open(id);\n",
              "      // Send a message to notify the kernel that we're ready.\n",
              "      channel.send({})\n",
              "\n",
              "      for await (const message of channel.messages) {\n",
              "        // Send a message to notify the kernel that we're ready.\n",
              "        channel.send({})\n",
              "        if (message.buffers) {\n",
              "          for (const buffer of message.buffers) {\n",
              "            buffers.push(buffer);\n",
              "            downloaded += buffer.byteLength;\n",
              "            progress.value = downloaded;\n",
              "          }\n",
              "        }\n",
              "      }\n",
              "      const blob = new Blob(buffers, {type: 'application/binary'});\n",
              "      const a = document.createElement('a');\n",
              "      a.href = window.URL.createObjectURL(blob);\n",
              "      a.download = filename;\n",
              "      div.appendChild(a);\n",
              "      a.click();\n",
              "      div.remove();\n",
              "    }\n",
              "  "
            ]
          },
          "metadata": {}
        },
        {
          "output_type": "display_data",
          "data": {
            "text/plain": [
              "<IPython.core.display.Javascript object>"
            ],
            "application/javascript": [
              "download(\"download_c5efa33a-5b9c-4821-9d33-9e6d0a08df53\", \"comments.csv\", 2514449)"
            ]
          },
          "metadata": {}
        }
      ]
    },
    {
      "cell_type": "code",
      "source": [
        "import pandas as pd\n",
        "import re\n",
        "\n",
        "#Puedes comenzar aqui si descargas el dataset\n",
        "#df = pd.read_csv('comments.csv') # poner ruta al dataset de github\n",
        "#print(\"Comentarios iniciales:\", len(df))\n",
        "#print(df.sample(5))\n",
        "\n",
        "def clean_comment(text):\n",
        "    if pd.isna(text):\n",
        "        return \"\"\n",
        "    # Eliminar URLs (http, https, www)\n",
        "    text = re.sub(r\"http\\S+|www\\.\\S+\", \"\", text)\n",
        "    return text.strip()\n",
        "\n",
        "# 1. Eliminar los que están marcados como borrados\n",
        "mask = ~df['comment'].str.lower().isin([\"[deleted]\", \"[removed]\"])\n",
        "df = df[mask].copy()\n",
        "\n",
        "# 2. Limpiar URLs\n",
        "df['comment'] = df['comment'].apply(clean_comment)\n",
        "\n",
        "# 3. (Opcional) Eliminar filas vacías después de limpiar\n",
        "df = df[df['comment'].str.strip() != \"\"]\n",
        "\n",
        "print(\"Comentarios finales:\", len(df))\n",
        "print(df.sample(5))\n"
      ],
      "metadata": {
        "colab": {
          "base_uri": "https://localhost:8080/"
        },
        "id": "lLnsZ4Jh6Saj",
        "outputId": "c573aeba-c2bb-4b2c-ac3f-b16559ee38d3"
      },
      "execution_count": null,
      "outputs": [
        {
          "output_type": "stream",
          "name": "stdout",
          "text": [
            "Comentarios finales: 13444\n",
            "             subreddit                                            comment\n",
            "7440  Republicadechile  Tiene el 30% asegurado. Los amigos del Boris. ...\n",
            "3508             chile  Eso es bueno. Si la elección es mañana, gana k...\n",
            "4397             chile  Abogado: el OS10 no se requiere para labores d...\n",
            "3895             chile        Pero por los lentes talves esta medio ciega\n",
            "5610  Republicadechile  Invítala a un panorama que a ti te entretenga,...\n"
          ]
        }
      ]
    },
    {
      "cell_type": "code",
      "source": [
        "import pandas as pd\n",
        "from transformers import AutoTokenizer, pipeline\n",
        "import torch\n",
        "\n",
        "# Modelo y tokenizer\n",
        "model_name = \"finiteautomata/beto-sentiment-analysis\"\n",
        "tokenizer = AutoTokenizer.from_pretrained(model_name)\n",
        "device = 0 if torch.cuda.is_available() else -1\n",
        "\n",
        "sentiment_pipeline = pipeline(\n",
        "    \"sentiment-analysis\",\n",
        "    model=model_name,\n",
        "    device=device\n",
        ")\n",
        "\n",
        "# Función para dividir en chunks\n",
        "def chunk_text(text, max_tokens=500):\n",
        "    tokens = tokenizer.encode(text, add_special_tokens=False)\n",
        "    chunks = []\n",
        "    for i in range(0, len(tokens), max_tokens):\n",
        "        chunk_ids = tokens[i:i+max_tokens]\n",
        "        chunk_text = tokenizer.decode(chunk_ids, skip_special_tokens=True)\n",
        "        chunks.append(chunk_text)\n",
        "    return chunks\n",
        "\n",
        "# Función para obtener el sentimiento promedio de un comentario\n",
        "def get_comment_sentiment_avg(comment):\n",
        "    chunks = chunk_text(comment, max_tokens=500)\n",
        "    chunk_sentiments = [sentiment_pipeline(c, truncation=True, max_length=512)[0] for c in chunks]\n",
        "\n",
        "    # Calcular promedio de scores por label\n",
        "    label_scores = {}\n",
        "    for s in chunk_sentiments:\n",
        "        label = s['label']\n",
        "        score = s['score']\n",
        "        label_scores[label] = label_scores.get(label, []) + [score]\n",
        "\n",
        "    # Promedio por label\n",
        "    avg_scores = {label: sum(scores)/len(scores) for label, scores in label_scores.items()}\n",
        "\n",
        "    # Elegir la etiqueta con mayor promedio\n",
        "    best_label = max(avg_scores, key=lambda x: avg_scores[x])\n",
        "    best_score = avg_scores[best_label]\n",
        "\n",
        "    return {\n",
        "    'label': best_label,\n",
        "    'score': best_score,\n",
        "    'score_POS': avg_scores.get('POS', 0),\n",
        "    'score_NEG': avg_scores.get('NEG', 0),\n",
        "    'score_NEU': avg_scores.get('NEU', 0)\n",
        "    }\n",
        "\n",
        "# Aplicar al dataframe\n",
        "df['sentiment_info'] = df['comment'].apply(get_comment_sentiment_avg)\n",
        "df['sentiment_label'] = df['sentiment_info'].apply(lambda x: x['label'])\n",
        "df['sentiment_score'] = df['sentiment_info'].apply(lambda x: x['score'])\n",
        "df['score_POS'] = df['sentiment_info'].apply(lambda x: x['score_POS'])\n",
        "df['score_NEG'] = df['sentiment_info'].apply(lambda x: x['score_NEG'])\n",
        "df['score_NEU'] = df['sentiment_info'].apply(lambda x: x['score_NEU'])\n",
        "\n",
        "\n"
      ],
      "metadata": {
        "colab": {
          "base_uri": "https://localhost:8080/"
        },
        "id": "AcKoH1mBALJE",
        "outputId": "059e217d-970f-47f7-8b01-fa3c5b741ad4"
      },
      "execution_count": null,
      "outputs": [
        {
          "output_type": "stream",
          "name": "stderr",
          "text": [
            "Device set to use cuda:0\n",
            "Token indices sequence length is longer than the specified maximum sequence length for this model (612 > 512). Running this sequence through the model will result in indexing errors\n"
          ]
        }
      ]
    },
    {
      "cell_type": "code",
      "source": [
        "df.head()\n",
        "df.to_csv('comments.csv', index=True)\n",
        "from google.colab import files\n",
        "files.download('/content/comments.csv')"
      ],
      "metadata": {
        "colab": {
          "base_uri": "https://localhost:8080/",
          "height": 34
        },
        "id": "uGoZd5aLK2PJ",
        "outputId": "542bc05a-b048-45fa-b2e5-94d79ae82d3e"
      },
      "execution_count": null,
      "outputs": [
        {
          "output_type": "display_data",
          "data": {
            "text/plain": [
              "<IPython.core.display.Javascript object>"
            ],
            "application/javascript": [
              "\n",
              "    async function download(id, filename, size) {\n",
              "      if (!google.colab.kernel.accessAllowed) {\n",
              "        return;\n",
              "      }\n",
              "      const div = document.createElement('div');\n",
              "      const label = document.createElement('label');\n",
              "      label.textContent = `Downloading \"${filename}\": `;\n",
              "      div.appendChild(label);\n",
              "      const progress = document.createElement('progress');\n",
              "      progress.max = size;\n",
              "      div.appendChild(progress);\n",
              "      document.body.appendChild(div);\n",
              "\n",
              "      const buffers = [];\n",
              "      let downloaded = 0;\n",
              "\n",
              "      const channel = await google.colab.kernel.comms.open(id);\n",
              "      // Send a message to notify the kernel that we're ready.\n",
              "      channel.send({})\n",
              "\n",
              "      for await (const message of channel.messages) {\n",
              "        // Send a message to notify the kernel that we're ready.\n",
              "        channel.send({})\n",
              "        if (message.buffers) {\n",
              "          for (const buffer of message.buffers) {\n",
              "            buffers.push(buffer);\n",
              "            downloaded += buffer.byteLength;\n",
              "            progress.value = downloaded;\n",
              "          }\n",
              "        }\n",
              "      }\n",
              "      const blob = new Blob(buffers, {type: 'application/binary'});\n",
              "      const a = document.createElement('a');\n",
              "      a.href = window.URL.createObjectURL(blob);\n",
              "      a.download = filename;\n",
              "      div.appendChild(a);\n",
              "      a.click();\n",
              "      div.remove();\n",
              "    }\n",
              "  "
            ]
          },
          "metadata": {}
        },
        {
          "output_type": "display_data",
          "data": {
            "text/plain": [
              "<IPython.core.display.Javascript object>"
            ],
            "application/javascript": [
              "download(\"download_b9bf4e57-f979-4ca4-9eae-d2a63cae84a3\", \"comments.csv\", 4853243)"
            ]
          },
          "metadata": {}
        }
      ]
    },
    {
      "cell_type": "code",
      "source": [
        "df['sentiment_label'].value_counts(normalize=True)"
      ],
      "metadata": {
        "colab": {
          "base_uri": "https://localhost:8080/",
          "height": 209
        },
        "id": "e365693QQvgX",
        "outputId": "d3647524-b1d9-478b-b5c5-98d62ef38471"
      },
      "execution_count": null,
      "outputs": [
        {
          "output_type": "execute_result",
          "data": {
            "text/plain": [
              "sentiment_label\n",
              "NEU    0.517777\n",
              "NEG    0.383442\n",
              "POS    0.098780\n",
              "Name: proportion, dtype: float64"
            ],
            "text/html": [
              "<div>\n",
              "<style scoped>\n",
              "    .dataframe tbody tr th:only-of-type {\n",
              "        vertical-align: middle;\n",
              "    }\n",
              "\n",
              "    .dataframe tbody tr th {\n",
              "        vertical-align: top;\n",
              "    }\n",
              "\n",
              "    .dataframe thead th {\n",
              "        text-align: right;\n",
              "    }\n",
              "</style>\n",
              "<table border=\"1\" class=\"dataframe\">\n",
              "  <thead>\n",
              "    <tr style=\"text-align: right;\">\n",
              "      <th></th>\n",
              "      <th>proportion</th>\n",
              "    </tr>\n",
              "    <tr>\n",
              "      <th>sentiment_label</th>\n",
              "      <th></th>\n",
              "    </tr>\n",
              "  </thead>\n",
              "  <tbody>\n",
              "    <tr>\n",
              "      <th>NEU</th>\n",
              "      <td>0.517777</td>\n",
              "    </tr>\n",
              "    <tr>\n",
              "      <th>NEG</th>\n",
              "      <td>0.383442</td>\n",
              "    </tr>\n",
              "    <tr>\n",
              "      <th>POS</th>\n",
              "      <td>0.098780</td>\n",
              "    </tr>\n",
              "  </tbody>\n",
              "</table>\n",
              "</div><br><label><b>dtype:</b> float64</label>"
            ]
          },
          "metadata": {},
          "execution_count": 57
        }
      ]
    },
    {
      "cell_type": "code",
      "source": [
        "df2=df.where(df['sentiment_score']<0.55).dropna()[['comment','sentiment_label']]\n",
        "df2.to_csv('ambiguous_comments.csv', index=True)\n",
        "from google.colab import files\n",
        "files.download('/content/ambiguous_comments.csv')"
      ],
      "metadata": {
        "colab": {
          "base_uri": "https://localhost:8080/",
          "height": 17
        },
        "id": "Zd6rba0bUNdY",
        "outputId": "1941f647-2471-4acc-88d1-057bf6f490f2"
      },
      "execution_count": null,
      "outputs": [
        {
          "output_type": "display_data",
          "data": {
            "text/plain": [
              "<IPython.core.display.Javascript object>"
            ],
            "application/javascript": [
              "\n",
              "    async function download(id, filename, size) {\n",
              "      if (!google.colab.kernel.accessAllowed) {\n",
              "        return;\n",
              "      }\n",
              "      const div = document.createElement('div');\n",
              "      const label = document.createElement('label');\n",
              "      label.textContent = `Downloading \"${filename}\": `;\n",
              "      div.appendChild(label);\n",
              "      const progress = document.createElement('progress');\n",
              "      progress.max = size;\n",
              "      div.appendChild(progress);\n",
              "      document.body.appendChild(div);\n",
              "\n",
              "      const buffers = [];\n",
              "      let downloaded = 0;\n",
              "\n",
              "      const channel = await google.colab.kernel.comms.open(id);\n",
              "      // Send a message to notify the kernel that we're ready.\n",
              "      channel.send({})\n",
              "\n",
              "      for await (const message of channel.messages) {\n",
              "        // Send a message to notify the kernel that we're ready.\n",
              "        channel.send({})\n",
              "        if (message.buffers) {\n",
              "          for (const buffer of message.buffers) {\n",
              "            buffers.push(buffer);\n",
              "            downloaded += buffer.byteLength;\n",
              "            progress.value = downloaded;\n",
              "          }\n",
              "        }\n",
              "      }\n",
              "      const blob = new Blob(buffers, {type: 'application/binary'});\n",
              "      const a = document.createElement('a');\n",
              "      a.href = window.URL.createObjectURL(blob);\n",
              "      a.download = filename;\n",
              "      div.appendChild(a);\n",
              "      a.click();\n",
              "      div.remove();\n",
              "    }\n",
              "  "
            ]
          },
          "metadata": {}
        },
        {
          "output_type": "display_data",
          "data": {
            "text/plain": [
              "<IPython.core.display.Javascript object>"
            ],
            "application/javascript": [
              "download(\"download_b8b01964-06c5-4d44-bdc5-8fe55df9839e\", \"ambiguous_comments.csv\", 42107)"
            ]
          },
          "metadata": {}
        }
      ]
    },
    {
      "cell_type": "code",
      "source": [],
      "metadata": {
        "id": "4KrhBEoYUWkK"
      },
      "execution_count": null,
      "outputs": []
    }
  ]
}